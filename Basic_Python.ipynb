{
  "cells": [
    {
      "cell_type": "markdown",
      "metadata": {
        "id": "zNUV-y3mn5fT"
      },
      "source": [
        "<a id=\"1\"></a>\n",
        "<div style=\"padding:20px;\n",
        "            color:#F0F3FF;\n",
        "            margin:10;\n",
        "            font-size:200%;\n",
        "            text-align:left;\n",
        "            display:fill;\n",
        "            border-radius:15px;\n",
        "            background-color:#211951;\n",
        "            overflow:hidden;\n",
        "            font-weight:900\">\n",
        "            <span style='color:#15F5BA'></span>Basic Python\n",
        "</div>\n",
        "<br>Author : <i>Anggie Mayy</i>"
      ]
    },
    {
      "cell_type": "markdown",
      "metadata": {
        "id": "JiSzoiAvn5fl"
      },
      "source": [
        "<a id=\"A\"></a>\n",
        "# <b>A. <span style='color:#E1B12D'>Comments</span></b>\n",
        "\n",
        "Comments dalam Python adalah teks yang ditambahkan ke dalam kode program untuk memberikan penjelasan atau catatan, tetapi tidak akan dieksekusi oleh interpreter Python. Comments berguna untuk meningkatkan keterbacaan kode dan membantu pengembang lain (atau diri sendiri di masa depan) memahami maksud dan fungsi dari bagian tertentu dari kode."
      ]
    },
    {
      "cell_type": "markdown",
      "metadata": {
        "id": "H73zyD4On5fn"
      },
      "source": [
        "<a id=\"A.\"></a>\n",
        "## <b>A.1. <span style='color:#0B2F9F'>Single Line Comment</span></b>"
      ]
    },
    {
      "cell_type": "code",
      "execution_count": null,
      "metadata": {
        "id": "XOxJ0FCbn5fp"
      },
      "outputs": [],
      "source": [
        "#ini adalah komen"
      ]
    },
    {
      "cell_type": "markdown",
      "metadata": {
        "id": "Zen6U3oqn5fq"
      },
      "source": [
        "<a id=\"A.2\"></a>\n",
        "## <b>A.2. <span style='color:#0B2F9F'>Multi Line Comment</span></b>"
      ]
    },
    {
      "cell_type": "code",
      "execution_count": null,
      "metadata": {
        "id": "LjDx_wWEn5fr",
        "outputId": "28ef383b-0a55-41de-8600-4833f5baa8a0",
        "colab": {
          "base_uri": "https://localhost:8080/",
          "height": 35
        }
      },
      "outputs": [
        {
          "output_type": "execute_result",
          "data": {
            "text/plain": [
              "'\\nini adalah komentar\\nbanyak baris\\n'"
            ],
            "application/vnd.google.colaboratory.intrinsic+json": {
              "type": "string"
            }
          },
          "metadata": {},
          "execution_count": 2
        }
      ],
      "source": [
        "'''\n",
        "ini adalah komentar\n",
        "banyak baris\n",
        "'''"
      ]
    },
    {
      "cell_type": "markdown",
      "metadata": {
        "id": "k9ERbRA0n5fs"
      },
      "source": [
        "<a id=\"B\"></a>\n",
        "# <b>B. <span style='color:#E1B12D'>Variabel & Tipe Data</span></b>\n",
        "Variabel dalam Python adalah tempat untuk menyimpan data. Mereka berfungsi sebagai wadah yang memungkinkan untuk menyimpan, mengakses dan memanipulasi nilai sepanjang program."
      ]
    },
    {
      "cell_type": "code",
      "source": [
        "#membuat variable nama\n",
        "nama = 'anggie'\n"
      ],
      "metadata": {
        "id": "IoutuCxltRB7"
      },
      "execution_count": null,
      "outputs": []
    },
    {
      "cell_type": "code",
      "source": [
        "#membuat variable pi untuk menyimpan konstanta\n",
        "pi =3.14159"
      ],
      "metadata": {
        "id": "qS888g9DtXCa"
      },
      "execution_count": null,
      "outputs": []
    },
    {
      "cell_type": "markdown",
      "source": [
        "<a id=\"B\"></a>\n",
        "# <b>B.0 <span style='color:#E1B12D'>Menampilkan Variable</span></b>\n"
      ],
      "metadata": {
        "id": "1ORlovavtmhD"
      }
    },
    {
      "cell_type": "code",
      "source": [
        "print(\"Baru belajar python teman\")"
      ],
      "metadata": {
        "id": "HwUziuP8tyON",
        "outputId": "d6af8c2a-00c2-44e6-c427-2612f86d79fb",
        "colab": {
          "base_uri": "https://localhost:8080/"
        }
      },
      "execution_count": null,
      "outputs": [
        {
          "output_type": "stream",
          "name": "stdout",
          "text": [
            "Baru belajar python teman\n"
          ]
        }
      ]
    },
    {
      "cell_type": "code",
      "source": [
        "#print(f\"Nama saya {nama}\")\n",
        "nama= \"angie\"\n",
        "nama =1\n",
        "print(nama)"
      ],
      "metadata": {
        "id": "cOZgnBVRt_FA",
        "outputId": "2e8523b0-b37b-4797-f88b-678b01bae4d6",
        "colab": {
          "base_uri": "https://localhost:8080/"
        }
      },
      "execution_count": null,
      "outputs": [
        {
          "output_type": "stream",
          "name": "stdout",
          "text": [
            "1\n"
          ]
        }
      ]
    },
    {
      "cell_type": "markdown",
      "metadata": {
        "id": "wa2c-X7nn5fu"
      },
      "source": [
        "<a id=\"B.1\"></a>\n",
        "## <b>B.1. <span style='color:#0B2F9F'>Aturan Penamaan Variabel</span></b>\n",
        "* Hanya menerima A-Z, 0-9 dan _\n",
        "* Angka tidak boleh didepan\n",
        "* Case Sensitive"
      ]
    },
    {
      "cell_type": "code",
      "source": [
        "# Aturan 1\n",
        "nama = \"anggie\""
      ],
      "metadata": {
        "id": "7wpjrFAMt9oY"
      },
      "execution_count": null,
      "outputs": []
    },
    {
      "cell_type": "code",
      "source": [
        "# Aturan 1\n",
        "mantan_1 = 'none'"
      ],
      "metadata": {
        "id": "J8GsztlYzd7k"
      },
      "execution_count": null,
      "outputs": []
    },
    {
      "cell_type": "code",
      "source": [
        "# Aturan 1\n",
        "nomor_identitas ='02533333'"
      ],
      "metadata": {
        "id": "PetvWeEJzpR9"
      },
      "execution_count": null,
      "outputs": []
    },
    {
      "cell_type": "code",
      "source": [
        "# Aturan 2\n",
        "TujuanHarapan ='selamanya'"
      ],
      "metadata": {
        "id": "cHdiGRyj0Ehz"
      },
      "execution_count": null,
      "outputs": []
    },
    {
      "cell_type": "code",
      "source": [
        "# Aturan 3\n",
        "nama ='Anggie'\n",
        "namA ='Mayyy'\n",
        "print(nama)"
      ],
      "metadata": {
        "id": "c75wo_jg0sVJ",
        "outputId": "7aa5a256-1b1c-4c67-9c95-299fbddf2d8f",
        "colab": {
          "base_uri": "https://localhost:8080/"
        }
      },
      "execution_count": null,
      "outputs": [
        {
          "output_type": "stream",
          "name": "stdout",
          "text": [
            "Anggie\n"
          ]
        }
      ]
    },
    {
      "cell_type": "markdown",
      "metadata": {
        "id": "mypH7qr2n5fv"
      },
      "source": [
        "\n",
        "## <b>B.2. <span style='color:#0B2F9F'>Tipe Data</span></b>\n",
        "<img src = \"https://miro.medium.com/v2/resize:fit:1400/format:webp/1*QfI8H_8HplGa1v9IrrWjBA.png\">\n"
      ]
    },
    {
      "cell_type": "code",
      "source": [
        "# Membuat variabel pi untuk menyimpan konstanta\n",
        "pi = 3.14159\n",
        "print(f'Nilai pi = {pi} dengan tipe data {type(pi)}')"
      ],
      "metadata": {
        "id": "1coUriWOzn1G",
        "outputId": "5bd308b6-59bb-43a1-bde3-4249731e9150",
        "colab": {
          "base_uri": "https://localhost:8080/"
        }
      },
      "execution_count": null,
      "outputs": [
        {
          "output_type": "stream",
          "name": "stdout",
          "text": [
            "Nilai pi = 3.14159 dengan tipe data <class 'float'>\n"
          ]
        }
      ]
    },
    {
      "cell_type": "markdown",
      "metadata": {
        "id": "VkZ5m68On5fw"
      },
      "source": [
        "<a id=\"C\"></a>\n",
        "# <b>C. <span style='color:#E1B12D'>Operator</span></b>"
      ]
    },
    {
      "cell_type": "markdown",
      "metadata": {
        "id": "VRIZeLMNn5fx"
      },
      "source": [
        "## <b>C.1. <span style='color:#0B2F9F'>Operator Aritmetik</span></b>\n",
        "<img src=\"https://www.devopsschool.com/blog/wp-content/uploads/2020/08/arithmetic-operation-in-python.png\" width=70%>"
      ]
    },
    {
      "cell_type": "code",
      "execution_count": null,
      "metadata": {
        "id": "TpbNu-6Jn5fy",
        "colab": {
          "base_uri": "https://localhost:8080/"
        },
        "outputId": "234c1d58-3f4b-45ca-c5e9-494e94ed0d8f"
      },
      "outputs": [
        {
          "output_type": "execute_result",
          "data": {
            "text/plain": [
              "6"
            ]
          },
          "metadata": {},
          "execution_count": 1
        }
      ],
      "source": [
        "# Modulus\n",
        "13 % 7"
      ]
    },
    {
      "cell_type": "code",
      "source": [
        "# Exponent\n",
        "6**2"
      ],
      "metadata": {
        "colab": {
          "base_uri": "https://localhost:8080/"
        },
        "id": "T9rATNmt8_W2",
        "outputId": "90b70fdf-24bf-4383-8e55-652e4b9b76e4"
      },
      "execution_count": null,
      "outputs": [
        {
          "output_type": "execute_result",
          "data": {
            "text/plain": [
              "36"
            ]
          },
          "metadata": {},
          "execution_count": 2
        }
      ]
    },
    {
      "cell_type": "markdown",
      "metadata": {
        "id": "gZI3ojbzn5fz"
      },
      "source": [
        "## <b>C.2. <span style='color:#0B2F9F'>Operator Pembanding</span></b>\n",
        "<img src=\"https://www.devopsschool.com/blog/wp-content/uploads/2020/08/relational-operator-in-python.png\" width=70%>"
      ]
    },
    {
      "cell_type": "code",
      "execution_count": null,
      "metadata": {
        "id": "3RLdDdJrn5f8",
        "colab": {
          "base_uri": "https://localhost:8080/"
        },
        "outputId": "70242393-2fe7-4f16-e917-e603928f5637"
      },
      "outputs": [
        {
          "output_type": "execute_result",
          "data": {
            "text/plain": [
              "True"
            ]
          },
          "metadata": {},
          "execution_count": 3
        }
      ],
      "source": [
        "5==5"
      ]
    },
    {
      "cell_type": "code",
      "source": [
        "5!=5"
      ],
      "metadata": {
        "colab": {
          "base_uri": "https://localhost:8080/"
        },
        "id": "W45p7njb9ght",
        "outputId": "80e12e02-03b1-496b-b501-e3cedee930e8"
      },
      "execution_count": null,
      "outputs": [
        {
          "output_type": "execute_result",
          "data": {
            "text/plain": [
              "False"
            ]
          },
          "metadata": {},
          "execution_count": 4
        }
      ]
    },
    {
      "cell_type": "markdown",
      "metadata": {
        "id": "vqFTMrjVn5f9"
      },
      "source": [
        "## <b>C.3. <span style='color:#0B2F9F'>Operator Logika</span></b>\n",
        "\n",
        "<img src=\"https://miro.medium.com/v2/resize:fit:1400/1*AZznQVcR1IuYIOQKLLymJw.png\" width=70%>"
      ]
    },
    {
      "cell_type": "code",
      "source": [
        "pernyataan1 = (3 < 5) # True\n",
        "pernyataan2 = (6 >= 7) # False\n",
        "\n",
        "print(pernyataan1 & pernyataan2) # True AND False"
      ],
      "metadata": {
        "id": "s3r-sg1N9fXq",
        "colab": {
          "base_uri": "https://localhost:8080/"
        },
        "outputId": "f0ea2811-4922-4307-e41f-4a936b7628e9"
      },
      "execution_count": 4,
      "outputs": [
        {
          "output_type": "stream",
          "name": "stdout",
          "text": [
            "False\n"
          ]
        }
      ]
    },
    {
      "cell_type": "code",
      "execution_count": 5,
      "metadata": {
        "id": "MNKQeFbHn5f-",
        "colab": {
          "base_uri": "https://localhost:8080/"
        },
        "outputId": "09b1a09b-347f-4258-c219-b0ba3f9a9f90"
      },
      "outputs": [
        {
          "output_type": "stream",
          "name": "stdout",
          "text": [
            "True\n"
          ]
        }
      ],
      "source": [
        "pernyataan1 = (3 < 5) # True\n",
        "pernyataan2 = (6 >= 7) # False\n",
        "\n",
        "print(pernyataan1 | pernyataan2) # True OR False"
      ]
    },
    {
      "cell_type": "markdown",
      "metadata": {
        "id": "3KA24Jmrn5f_"
      },
      "source": [
        "## <b>C.4. <span style='color:#0B2F9F'>Operator Keanggotaan</span></b>"
      ]
    },
    {
      "cell_type": "code",
      "execution_count": null,
      "metadata": {
        "id": "t4EBq60gn5f_",
        "colab": {
          "base_uri": "https://localhost:8080/"
        },
        "outputId": "46ff4570-1ad2-49ce-9348-836f1298bfcd"
      },
      "outputs": [
        {
          "output_type": "stream",
          "name": "stdout",
          "text": [
            "True\n"
          ]
        }
      ],
      "source": [
        "pernyataan1 = (5 in[1, 2, 3, 4, 5])\n",
        "print(pernyataan1)"
      ]
    },
    {
      "cell_type": "markdown",
      "metadata": {
        "id": "MP-12DONn5gA"
      },
      "source": [
        "<a id=\"D\"></a>\n",
        "# <b>D. <span style='color:#E1B12D'>Pengkondisian</span></b>\n",
        "Pengkondisian dalam Python merujuk pada penggunaan struktur kontrol untuk membuat keputusan dalam program. Dengan pengkondisian, kamu bisa menjalankan kode tertentu berdasarkan kondisi yang ditentukan."
      ]
    },
    {
      "cell_type": "markdown",
      "metadata": {
        "id": "SQ_FLv-Cn5gA"
      },
      "source": [
        "## <b>D.1. <span style='color:#0B2F9F'>IF</span></b>"
      ]
    },
    {
      "cell_type": "code",
      "execution_count": 1,
      "metadata": {
        "id": "ebT8wRb1n5gB",
        "colab": {
          "base_uri": "https://localhost:8080/"
        },
        "outputId": "76fcd055-ad6d-47af-e7cf-e0ff6f11955f"
      },
      "outputs": [
        {
          "output_type": "stream",
          "name": "stdout",
          "text": [
            "Ya cocok\n"
          ]
        }
      ],
      "source": [
        "x = 5\n",
        "\n",
        "if (x == 5):\n",
        "  print('Ya cocok')"
      ]
    },
    {
      "cell_type": "code",
      "source": [
        "nama = input('Masukeun nama anda: ')\n",
        "\n",
        "if (nama == 'Paduka'):\n",
        "  print('Sendiko Dawuh')"
      ],
      "metadata": {
        "colab": {
          "base_uri": "https://localhost:8080/"
        },
        "id": "6Xx4c8YwCtll",
        "outputId": "80cfd8d2-6330-4cfb-e90a-f695db5d3b8c"
      },
      "execution_count": 3,
      "outputs": [
        {
          "output_type": "stream",
          "name": "stdout",
          "text": [
            "Masukeun nama anda: Paduka\n",
            "Sendiko Dawuh\n"
          ]
        }
      ]
    },
    {
      "cell_type": "markdown",
      "metadata": {
        "id": "hh8QFl_cn5gC"
      },
      "source": [
        "## <b>D.2. <span style='color:#0B2F9F'>IF-ELSE</span></b>"
      ]
    },
    {
      "cell_type": "code",
      "execution_count": 6,
      "metadata": {
        "id": "EYPGWCeon5gC",
        "colab": {
          "base_uri": "https://localhost:8080/"
        },
        "outputId": "f74cdbc0-fa95-4b77-864e-a4d6ac26ce2a"
      },
      "outputs": [
        {
          "output_type": "stream",
          "name": "stdout",
          "text": [
            "Masukeun nama anda: an\n",
            "Laksanakan Titah!\n"
          ]
        }
      ],
      "source": [
        "nama = input('Masukeun nama anda: ')\n",
        "\n",
        "if (nama == 'Paduka'):\n",
        "  print('Sendiko Dawuh')\n",
        "else:\n",
        "  print('Laksanakan Titah!')"
      ]
    },
    {
      "cell_type": "markdown",
      "metadata": {
        "id": "mb8Dh5wHn5gD"
      },
      "source": [
        "## <b>D.3. <span style='color:#0B2F9F'>IF-ELIF-ELSE</span></b>"
      ]
    },
    {
      "cell_type": "code",
      "execution_count": 8,
      "metadata": {
        "id": "B250dW47n5gD",
        "colab": {
          "base_uri": "https://localhost:8080/"
        },
        "outputId": "9a3d4668-4f30-4bab-86cf-aa4b4fc9dfb7"
      },
      "outputs": [
        {
          "output_type": "stream",
          "name": "stdout",
          "text": [
            "Masukeun nama anda: Panglima\n",
            "Siap laksanakanm\n"
          ]
        }
      ],
      "source": [
        "nama = input('Masukeun nama anda: ')\n",
        "\n",
        "if (nama == 'Paduka'):\n",
        "  print('Sendiko Dawuh')\n",
        "elif(nama == 'Panglima'):\n",
        "    print(\"Siap laksanakanm\")\n",
        "else:\n",
        "  print('Laksanakan Titah!')\n"
      ]
    },
    {
      "cell_type": "code",
      "source": [
        "# Input suatu nilai\n",
        "nilai = input('Masukkan suatu nilai: ')\n",
        "\n",
        "# Memeriksa apakah input berupa angka\n",
        "if nilai.isdigit():  # Memeriksa apakah semua karakter adalah digit\n",
        "    angka = int(nilai)  # Mengonversi input ke tipe integer\n",
        "    print(f'angka = {angka}')\n",
        "else:\n",
        "    print('Input Salah')\n"
      ],
      "metadata": {
        "colab": {
          "base_uri": "https://localhost:8080/"
        },
        "id": "eMcUxkb-Fo2A",
        "outputId": "dad03716-4d2b-426c-d6ca-c8e273f13a6e"
      },
      "execution_count": 9,
      "outputs": [
        {
          "output_type": "stream",
          "name": "stdout",
          "text": [
            "Masukkan suatu nilai: 12\n",
            "angka = 12\n"
          ]
        }
      ]
    },
    {
      "cell_type": "markdown",
      "metadata": {
        "id": "G5ispgVBn5gD"
      },
      "source": [
        "<a id=\"E\"></a>\n",
        "# <b>E. <span style='color:#E1B12D'>Pengulangan</span></b>"
      ]
    },
    {
      "cell_type": "markdown",
      "metadata": {
        "id": "kcPFpvT-n5gJ"
      },
      "source": [
        "## <b>E.1. <span style='color:#0B2F9F'>RANGE</span></b>\n",
        "range(start, stop, step)"
      ]
    },
    {
      "cell_type": "code",
      "execution_count": 10,
      "metadata": {
        "id": "fSav6Os1n5gK",
        "colab": {
          "base_uri": "https://localhost:8080/"
        },
        "outputId": "83fd3f71-d16c-4801-8389-8424aa4fbd7f"
      },
      "outputs": [
        {
          "output_type": "execute_result",
          "data": {
            "text/plain": [
              "range(2, 8)"
            ]
          },
          "metadata": {},
          "execution_count": 10
        }
      ],
      "source": [
        "range (2,8,1)"
      ]
    },
    {
      "cell_type": "markdown",
      "metadata": {
        "id": "fxAMiZ8rn5gL"
      },
      "source": [
        "## <b>E.2. <span style='color:#0B2F9F'>FOR</span></b>"
      ]
    },
    {
      "cell_type": "code",
      "execution_count": 12,
      "metadata": {
        "id": "7VNejSExn5gM",
        "colab": {
          "base_uri": "https://localhost:8080/"
        },
        "outputId": "b7e48f98-400d-434e-a445-fb4cc97bbf89"
      },
      "outputs": [
        {
          "output_type": "stream",
          "name": "stdout",
          "text": [
            "2\n",
            "4\n",
            "6\n"
          ]
        }
      ],
      "source": [
        "for i in range (2,8,2):\n",
        "  print(i)"
      ]
    },
    {
      "cell_type": "code",
      "source": [
        "for i in range (8,-13,-5):\n",
        "  print(i)"
      ],
      "metadata": {
        "colab": {
          "base_uri": "https://localhost:8080/"
        },
        "id": "HOXQUOT1R2O3",
        "outputId": "c1012b40-fa6f-4af6-f75f-701a540f209d"
      },
      "execution_count": 18,
      "outputs": [
        {
          "output_type": "stream",
          "name": "stdout",
          "text": [
            "8\n",
            "3\n",
            "-2\n",
            "-7\n",
            "-12\n"
          ]
        }
      ]
    },
    {
      "cell_type": "code",
      "source": [
        "for i in range(0, 15, 1):\n",
        "    if (i % 2 == 0):\n",
        "      print(i)"
      ],
      "metadata": {
        "colab": {
          "base_uri": "https://localhost:8080/"
        },
        "id": "HLJsYU3cUglN",
        "outputId": "11c61bbe-82d0-4c2e-efe9-72738f6a8999"
      },
      "execution_count": 19,
      "outputs": [
        {
          "output_type": "stream",
          "name": "stdout",
          "text": [
            "0\n",
            "2\n",
            "4\n",
            "6\n",
            "8\n",
            "10\n",
            "12\n",
            "14\n"
          ]
        }
      ]
    },
    {
      "cell_type": "markdown",
      "source": [
        "<a id=\"E\"></a>\n",
        "# <b>F. <span style='color:#E1B12D'>Iterables</span></b>"
      ],
      "metadata": {
        "id": "0Oa5McMnUqwC"
      }
    },
    {
      "cell_type": "markdown",
      "source": [
        "## <b>F.1. <span style='color:#0B2F9F'>List</span></b>\n"
      ],
      "metadata": {
        "id": "pWKF7mXpU36k"
      }
    },
    {
      "cell_type": "code",
      "source": [
        "umur_anggie = 18\n",
        "umur_friska =12\n",
        "umur_eka =16\n",
        "umur_nau = 20"
      ],
      "metadata": {
        "id": "pQXq2hpTVD8e"
      },
      "execution_count": 20,
      "outputs": []
    },
    {
      "cell_type": "code",
      "source": [
        "umur_teman = [18, 12, 16, 20]"
      ],
      "metadata": {
        "id": "OluAR0yoVkuX"
      },
      "execution_count": 21,
      "outputs": []
    },
    {
      "cell_type": "code",
      "source": [
        "print(f'List umur ={umur_teman} dengan tipe data{type(umur_teman)}')"
      ],
      "metadata": {
        "colab": {
          "base_uri": "https://localhost:8080/"
        },
        "id": "dsK1l5xqVvXJ",
        "outputId": "ae36013f-7a4e-4796-fe06-c97610f6de1c"
      },
      "execution_count": 24,
      "outputs": [
        {
          "output_type": "stream",
          "name": "stdout",
          "text": [
            "List umur =[18, 12, 16, 20] dengan tipe data<class 'list'>\n"
          ]
        }
      ]
    },
    {
      "cell_type": "markdown",
      "source": [
        "<img src = 'https://miro.medium.com/v2/resize:fit:828/format:webp/0*R5KsG5V_dH2aXmHF' >"
      ],
      "metadata": {
        "id": "CpTYptHXX7KT"
      }
    },
    {
      "cell_type": "markdown",
      "metadata": {
        "id": "52ykAzUVn5gM"
      },
      "source": [
        "---\n",
        "\n",
        "<br>\n",
        "<a href=\"https://http://www.linkedin.com/in/anggie-maesyaroh12bb972a4/\"><img src=\"https://img.shields.io/badge/-© 2024 Anggie Mayyy-417DAC?style=for-the-badge&logoColor=white\"/></a>"
      ]
    }
  ],
  "metadata": {
    "language_info": {
      "name": "python"
    },
    "colab": {
      "provenance": []
    },
    "kernelspec": {
      "name": "python3",
      "display_name": "Python 3"
    }
  },
  "nbformat": 4,
  "nbformat_minor": 0
}